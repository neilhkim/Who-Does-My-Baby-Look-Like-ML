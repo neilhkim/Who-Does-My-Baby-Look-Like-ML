{
 "cells": [
  {
   "cell_type": "markdown",
   "metadata": {},
   "source": [
    "# Gathering Training Data using Google Photos API\n",
    "\n",
    "This was the first part of the main notebook, which was to gather training data using Google Photos API and my Google Photos album. Since it was my first time using Google Photos API, I made it into a separate notebook."
   ]
  },
  {
   "cell_type": "markdown",
   "metadata": {},
   "source": [
    ">**Note**: </br>\n",
    "> This code will run exclusively on my local repo as the API credentials saved locally </br>"
   ]
  },
  {
   "cell_type": "markdown",
   "metadata": {},
   "source": [
    "The following code cell authenticates a user with the Google Photos API and list the first 10 media items from their Google Photos library. \n",
    "\n",
    "#### Functions\n",
    "\n",
    "- The `authenticate_google_photos()` function ensures that the user is authenticated and the credentials are valid.\n",
    "- The `list_photos()` function uses these credentials to interact with the Google Photos API and list media items.\n",
    "\n",
    "This setup allows the user to authenticate once and reuse the saved credentials for subsequent runs."
   ]
  },
  {
   "cell_type": "code",
   "execution_count": 9,
   "metadata": {},
   "outputs": [
    {
     "name": "stdout",
     "output_type": "stream",
     "text": [
      "Using Google API library: https://photoslibrary.googleapis.com/\n",
      "Photo Title: 20241024_132800.jpg - URL: https://lh3.googleusercontent.com/lr/AAJ1LKel...\n",
      "Photo Title: 20241024_132757.jpg - URL: https://lh3.googleusercontent.com/lr/AAJ1LKdQ...\n",
      "Photo Title: 20241023_152957.jpg - URL: https://lh3.googleusercontent.com/lr/AAJ1LKfH...\n",
      "Photo Title: 20241023_152954.jpg - URL: https://lh3.googleusercontent.com/lr/AAJ1LKez...\n",
      "Photo Title: 20241023_152953.jpg - URL: https://lh3.googleusercontent.com/lr/AAJ1LKew...\n",
      "Photo Title: 20241023_152949.jpg - URL: https://lh3.googleusercontent.com/lr/AAJ1LKcd...\n",
      "Photo Title: 20241023_152946.jpg - URL: https://lh3.googleusercontent.com/lr/AAJ1LKeS...\n",
      "Photo Title: 20241023_152945.jpg - URL: https://lh3.googleusercontent.com/lr/AAJ1LKda...\n",
      "Photo Title: 20241023_134040.jpg - URL: https://lh3.googleusercontent.com/lr/AAJ1LKcG...\n",
      "Photo Title: 20241023_081153.jpg - URL: https://lh3.googleusercontent.com/lr/AAJ1LKce...\n"
     ]
    }
   ],
   "source": [
    "import os\n",
    "import pickle # Used for serializing and deserializing Python objects, in this case, to save and load authentication tokens\n",
    "from google_auth_oauthlib.flow import InstalledAppFlow # for authenticating the user\n",
    "from google.auth.transport.requests import Request # for refreshing the user's access token\n",
    "from googleapiclient.discovery import build # for accessing the Google Photos API\n",
    "\n",
    "# Set the scope of access to read-only access to the Google Photos library\n",
    "SCOPES = ['https://www.googleapis.com/auth/photoslibrary.readonly'] \n",
    "\n",
    "def authenticate_google_photos():\n",
    "    creds = None\n",
    "    # The file token.pickle stores the user's access and refresh tokens\n",
    "    if os.path.exists('token.pickle'):\n",
    "        with open('token.pickle', 'rb') as token:\n",
    "            creds = pickle.load(token)\n",
    "\n",
    "    # If there are no (valid) credentials available, let the user log in.\n",
    "    if not creds or not creds.valid:\n",
    "        if creds and creds.expired and creds.refresh_token:\n",
    "            creds.refresh(Request())\n",
    "        else:\n",
    "            flow = InstalledAppFlow.from_client_secrets_file(\n",
    "                'client_secret.json', SCOPES)\n",
    "            creds = flow.run_local_server(port=0)\n",
    "\n",
    "        # Save the credentials for the next run\n",
    "        with open('token.pickle', 'wb') as token:\n",
    "            pickle.dump(creds, token)\n",
    "\n",
    "    return creds\n",
    "\n",
    "def list_photos(pagesize=10):\n",
    "    \"\"\" This function tests the connection to the Google Photos API by listing the first 10 photos in the user's library \"\"\"\n",
    "\n",
    "    creds = authenticate_google_photos()\n",
    "    # service = build(\"photoslibrary\", \"v1\", http=creds.authorize(Http()),static_discovery=False)\n",
    "    service = build('photoslibrary', 'v1', credentials=creds, \n",
    "                    discoveryServiceUrl=\"https://photoslibrary.googleapis.com/$discovery/rest?version=v1\")\n",
    "    # Print the API library name and version\n",
    "    print(\"Using Google API library:\", service._baseUrl)\n",
    "    results = service.mediaItems().list(pageSize=pagesize).execute()\n",
    "    items = results.get('mediaItems', [])\n",
    "    \n",
    "    if not items:\n",
    "        print('No media items found.')\n",
    "    else:\n",
    "        for item in items:\n",
    "            print(f\"Photo Title: {item['filename']} - URL: {item['baseUrl'][:45]} ...\")\n",
    "\n",
    "list_photos(pagesize=10)"
   ]
  },
  {
   "cell_type": "markdown",
   "metadata": {},
   "source": [
    "The connection to the Google Photos API is successful.\n",
    "\n",
    "## List photos of me using Google Photos API.\n",
    "\n",
    "- I've prepared albums inside Google Photos named \"husband\" and \"wife\", which contain about 900 picture of me and 1200 pictures of my wife, respectively.\n",
    "\n",
    "- Let's first see if the API correctly accesses my albums.\n"
   ]
  },
  {
   "cell_type": "code",
   "execution_count": 11,
   "metadata": {},
   "outputs": [
    {
     "name": "stdout",
     "output_type": "stream",
     "text": [
      "Album Title: W-mom - ID: ALV-wv21U2gWvm5lMI_U ...\n",
      "Album Title: juyeon - ID: ALV-wv03matWGqOVbZDe ...\n",
      "Album Title: wife - ID: ALV-wv1e0wojtN8dyoGo ...\n",
      "Album Title: baby - ID: ALV-wv2CvAgqxb-f8VJb ...\n",
      "Album Title: husband - ID: ALV-wv3-YBgY3kJXZcxq ...\n",
      "Album Title: H-mom - ID: ALV-wv1741TqhtuQFvoK ...\n",
      "Album Title: H-dad - ID: ALV-wv3mF6djjr0S_8iz ...\n",
      "Album Title: W-dad - ID: ALV-wv0wCQk-7jFCjLDE ...\n"
     ]
    }
   ],
   "source": [
    "def list_albums():\n",
    "    creds = authenticate_google_photos()\n",
    "    service = build('photoslibrary', 'v1', credentials=creds, \n",
    "                    discoveryServiceUrl=\"https://photoslibrary.googleapis.com/$discovery/rest?version=v1\")\n",
    "\n",
    "    results = service.albums().list(pageSize=10).execute()\n",
    "    albums = results.get('albums', [])\n",
    "    \n",
    "    if not albums:\n",
    "        print('No albums found.')\n",
    "        husband_album_id = None\n",
    "        wife_album_id = None\n",
    "    else:\n",
    "        for album in albums:\n",
    "            print(f\"Album Title: {album['title']} - ID: {album['id'][:20]} ...\")\n",
    "            if album['title'] == 'husband':\n",
    "                husband_album_id = album['id']\n",
    "            elif album['title'] == 'wife':\n",
    "                wife_album_id = album['id'] \n",
    "            elif album['title'] == 'baby':\n",
    "                baby_album_id = album['id'] \n",
    "    \n",
    "    return husband_album_id, wife_album_id, baby_album_id\n",
    "          \n",
    "husband_album_id, wife_album_id, baby_album_id = list_albums()"
   ]
  },
  {
   "cell_type": "markdown",
   "metadata": {},
   "source": [
    "It correctly lists all the albums I have in my account.\n",
    "\n",
    "Now let's see whether it correctly retrieves the photos within the album titled \"husband\" and \"wife\"."
   ]
  },
  {
   "cell_type": "code",
   "execution_count": 13,
   "metadata": {},
   "outputs": [
    {
     "name": "stdout",
     "output_type": "stream",
     "text": [
      "Photo Title: 20240926_123307.jpg - URL: https://lh3.googleusercontent.com/lr/AAJ1LKd6 ...\n",
      "Photo Title: 20240907_145140.jpg - URL: https://lh3.googleusercontent.com/lr/AAJ1LKfR ...\n",
      "Photo Title: 20240907_145139.jpg - URL: https://lh3.googleusercontent.com/lr/AAJ1LKc4 ...\n",
      "Photo Title: 20240907_145138.jpg - URL: https://lh3.googleusercontent.com/lr/AAJ1LKfw ...\n",
      "Photo Title: 20240907_145136.jpg - URL: https://lh3.googleusercontent.com/lr/AAJ1LKcO ...\n",
      "Photo Title: 20240907_145135.jpg - URL: https://lh3.googleusercontent.com/lr/AAJ1LKev ...\n",
      "Photo Title: 20240907_145116.jpg - URL: https://lh3.googleusercontent.com/lr/AAJ1LKfY ...\n",
      "Photo Title: 20240907_145114.jpg - URL: https://lh3.googleusercontent.com/lr/AAJ1LKcO ...\n",
      "Photo Title: 20240907_145112.jpg - URL: https://lh3.googleusercontent.com/lr/AAJ1LKeg ...\n",
      "---\n",
      "Photo Title: 20241020_145807.jpg - URL: https://lh3.googleusercontent.com/lr/AAJ1LKcg ...\n",
      "Photo Title: 20241020_145803.jpg - URL: https://lh3.googleusercontent.com/lr/AAJ1LKdb ...\n",
      "Photo Title: 20241020_113502.jpg - URL: https://lh3.googleusercontent.com/lr/AAJ1LKcb ...\n",
      "Photo Title: 20241020_113348.jpg - URL: https://lh3.googleusercontent.com/lr/AAJ1LKf1 ...\n",
      "Photo Title: 20241020_113334.jpg - URL: https://lh3.googleusercontent.com/lr/AAJ1LKcI ...\n",
      "Photo Title: 20241020_113333.jpg - URL: https://lh3.googleusercontent.com/lr/AAJ1LKfH ...\n",
      "Photo Title: 20241020_113329.jpg - URL: https://lh3.googleusercontent.com/lr/AAJ1LKck ...\n",
      "Photo Title: 20241020_113326.jpg - URL: https://lh3.googleusercontent.com/lr/AAJ1LKcU ...\n",
      "Photo Title: 20241020_113315.jpg - URL: https://lh3.googleusercontent.com/lr/AAJ1LKd2 ...\n",
      "Photo Title: 20241020_113311.jpg - URL: https://lh3.googleusercontent.com/lr/AAJ1LKfp ...\n"
     ]
    }
   ],
   "source": [
    "  \n",
    "def list_photos_from_album(album_id, n_number=10):\n",
    "    creds = authenticate_google_photos()\n",
    "    service = build('photoslibrary', 'v1', credentials=creds, \n",
    "                    discoveryServiceUrl=\"https://photoslibrary.googleapis.com/$discovery/rest?version=v1\")\n",
    "    \n",
    "    # List items in a specific album (e.g., \"Me\")\n",
    "    results = service.mediaItems().search(body={\n",
    "        'pageSize': n_number,\n",
    "        'albumId': album_id  # Replace this with your album ID\n",
    "    }).execute()\n",
    "    \n",
    "    items = results.get('mediaItems', [])\n",
    "    \n",
    "    if not items:\n",
    "        print('No media items found.')\n",
    "    else:\n",
    "        filtered_items = [item for item in items if item['mimeType'] == 'image/jpeg']\n",
    "        \n",
    "        for item in filtered_items:\n",
    "            print(f\"Photo Title: {item['filename']} - URL: {item['baseUrl'][:45]} ...\")\n",
    "\n",
    "list_photos_from_album(husband_album_id, n_number=10)\n",
    "\n",
    "print('---')\n",
    "\n",
    "\n",
    "list_photos_from_album(wife_album_id, n_number=10)"
   ]
  },
  {
   "cell_type": "markdown",
   "metadata": {},
   "source": [
    "It successfully retrives the photos inside the album.\n",
    "\n",
    "Now, let's download the cropped faces from each album, \"husband\" and \"wife\".\n",
    "Only download the faces if the photo contains a single face."
   ]
  },
  {
   "cell_type": "code",
   "execution_count": 15,
   "metadata": {},
   "outputs": [],
   "source": [
    "import requests\n",
    "from io import BytesIO\n",
    "from PIL import Image\n",
    "import face_recognition\n",
    "from IPython.display import clear_output\n",
    "\n",
    "def list_and_crop_photos(album_id, save_folder):\n",
    "    creds = authenticate_google_photos()\n",
    "    service = build('photoslibrary', 'v1', credentials=creds, \n",
    "                    discoveryServiceUrl=\"https://photoslibrary.googleapis.com/$discovery/rest?version=v1\")\n",
    "    \n",
    "    page_size = 100 \n",
    "    items = []\n",
    "    next_page_token = None\n",
    "\n",
    "    while True:\n",
    "        body = {\n",
    "            'pageSize': page_size,\n",
    "            'albumId': album_id\n",
    "        }\n",
    "        if next_page_token:\n",
    "            body['pageToken'] = next_page_token\n",
    "\n",
    "        results = service.mediaItems().search(body=body).execute()\n",
    "        items.extend(results.get('mediaItems', []))\n",
    "        next_page_token = results.get('nextPageToken')\n",
    "\n",
    "        if not next_page_token:\n",
    "            break\n",
    "\n",
    "    print(f\"Number of retrieved pictures: {len(items)}\")\n",
    "    \n",
    "    # items = results.get('mediaItems', [])\n",
    "    \n",
    "    if not items:\n",
    "        print('No media items found.')\n",
    "    else:\n",
    "        cropped_faces = []\n",
    "        output_count = 0\n",
    "        process_count = 0\n",
    "        for item in items:\n",
    "            # Print progress\n",
    "            process_count += 1\n",
    "            clear_output(wait=True)\n",
    "            print(f\"Processing image {process_count}/{len(items)}\", end='\\r')\n",
    "            # Filter to only include .jpg files\n",
    "            if item['mimeType'] == 'image/jpeg':\n",
    "                # Download the image\n",
    "                response = requests.get(item['baseUrl'])\n",
    "                img = Image.open(BytesIO(response.content))\n",
    "                img_array = face_recognition.load_image_file(BytesIO(response.content))\n",
    "                \n",
    "                # Find all the faces in the image\n",
    "                face_locations = face_recognition.face_locations(img_array)\n",
    "                \n",
    "                # Only process images with a single face\n",
    "                if len(face_locations) == 1:\n",
    "                    top, right, bottom, left = face_locations[0]\n",
    "                    face_image = img.crop((left, top, right, bottom))\n",
    "                    cropped_faces.append(face_image)\n",
    "                    if (right - left) > 60:\n",
    "                        face_image.save(os.path.join(save_folder, f'face_{output_count}.jpg'))\n",
    "                        output_count += 1\n",
    "                        if output_count >= 660:\n",
    "                            break\n",
    "        \n",
    "        print(f\"{len(cropped_faces)} picture had a single face of significant size\")\n",
    "\n",
    "        # # Display the first 5 cropped face images using matplotlib\n",
    "        # _, axes = plt.subplots(1, 5, figsize=(15, 5))\n",
    "        # for ax, face in zip(axes, cropped_faces[:5]):\n",
    "        #     ax.imshow(face)\n",
    "        #     ax.axis('off')\n",
    "        # plt.show()\n",
    "\n"
   ]
  },
  {
   "cell_type": "code",
   "execution_count": null,
   "metadata": {},
   "outputs": [],
   "source": [
    "\n",
    "# Download cropped face images from the husband album\n",
    "list_and_crop_photos(husband_album_id, 'husband')\n"
   ]
  },
  {
   "cell_type": "markdown",
   "metadata": {},
   "source": [
    "![Husband Pictures](./screenshots/husband_pictures.png)"
   ]
  },
  {
   "cell_type": "code",
   "execution_count": null,
   "metadata": {},
   "outputs": [],
   "source": [
    "# Download cropped face images from the wife album\n",
    "list_and_crop_photos(wife_album_id, 'wife')"
   ]
  },
  {
   "cell_type": "markdown",
   "metadata": {},
   "source": [
    "Of the saved files, I manually deleted the ones that are obviously not the \"husband\" or \"wife\" in each case.\n",
    "\n",
    "As a result, I have 638 images of the wife's face and 510 images of the husband's face."
   ]
  },
  {
   "cell_type": "code",
   "execution_count": 15,
   "metadata": {},
   "outputs": [
    {
     "name": "stdout",
     "output_type": "stream",
     "text": [
      "Number of retrieved pictures: 718\n",
      "266 picture had a single face of significant size\n"
     ]
    }
   ],
   "source": [
    "list_and_crop_photos(baby_album_id, 'baby')"
   ]
  },
  {
   "cell_type": "markdown",
   "metadata": {},
   "source": [
    "![Baby Pictures](./screenshots/baby_pictures.png)"
   ]
  },
  {
   "cell_type": "code",
   "execution_count": 18,
   "metadata": {},
   "outputs": [
    {
     "name": "stdout",
     "output_type": "stream",
     "text": [
      "Album Title: H-dad - ID: ALV-wv3mF6djjr0S_8izwqaV6pEKP5IFsUMIFtTevnbbOnef5FCo9AIO-ZxvDAYaSgWs6VDaDp10\n",
      "Album Title: H-mom - ID: ALV-wv1741TqhtuQFvoKYUeZckToKdM4c-SdTDVqeT5utbedSegF_1KzenLud1fulCj8FMHgjm8n\n",
      "Album Title: W-dad - ID: ALV-wv0wCQk-7jFCjLDEcc8UajdYyz-tfueIdGv2CTjYoMW8-kKYwiYbCLWL95G3WXFKsac2TbBm\n",
      "Album Title: W-mom - ID: ALV-wv21U2gWvm5lMI_UMMGkCNEpUdA1aQ43zkpLu8f5JLQKgPw1SssikWfbxIyuf1kgdVandDyV\n"
     ]
    }
   ],
   "source": [
    "def get_album_id(album_name):\n",
    "    creds = authenticate_google_photos()\n",
    "    service = build('photoslibrary', 'v1', credentials=creds, \n",
    "                    discoveryServiceUrl=\"https://photoslibrary.googleapis.com/$discovery/rest?version=v1\")\n",
    "\n",
    "    results = service.albums().list(pageSize=10).execute()\n",
    "    albums = results.get('albums', [])\n",
    "    \n",
    "    if not albums:\n",
    "        print('No albums found.')\n",
    "    else:\n",
    "        for album in albums:\n",
    "            if album['title'] == album_name:\n",
    "                print(f\"Album Title: {album['title']} - ID: {album['id']}\")\n",
    "                return album['id']\n",
    "          \n",
    "h_dad_album_id = get_album_id('H-dad')\n",
    "h_mom_album_id = get_album_id('H-mom')\n",
    "w_dad_album_id = get_album_id('W-dad')\n",
    "w_mom_album_id = get_album_id('W-mom')"
   ]
  },
  {
   "cell_type": "markdown",
   "metadata": {},
   "source": [
    "Since I don't have many pictures of our parents where they are the only person in it, I will lift the \"single person picture\" condition and save all faces and then manually erase resulting photos of other people."
   ]
  },
  {
   "cell_type": "code",
   "execution_count": 30,
   "metadata": {},
   "outputs": [],
   "source": [
    "def list_and_crop_photos(album_id, save_folder, require_single_person=True):\n",
    "    creds = authenticate_google_photos()\n",
    "    service = build('photoslibrary', 'v1', credentials=creds, \n",
    "                    discoveryServiceUrl=\"https://photoslibrary.googleapis.com/$discovery/rest?version=v1\")\n",
    "    \n",
    "    page_size = 100 \n",
    "    items = []\n",
    "    next_page_token = None\n",
    "\n",
    "    while True:\n",
    "        body = {\n",
    "            'pageSize': page_size,\n",
    "            'albumId': album_id\n",
    "        }\n",
    "        if next_page_token:\n",
    "            body['pageToken'] = next_page_token\n",
    "\n",
    "        results = service.mediaItems().search(body=body).execute()\n",
    "        items.extend(results.get('mediaItems', []))\n",
    "        next_page_token = results.get('nextPageToken')\n",
    "\n",
    "        if not next_page_token:\n",
    "            break\n",
    "\n",
    "    print(f\"Number of retrieved pictures: {len(items)}\")\n",
    "    \n",
    "    # items = results.get('mediaItems', [])\n",
    "    \n",
    "    if not items:\n",
    "        print('No media items found.')\n",
    "    else:\n",
    "        cropped_faces = []\n",
    "        output_count = 0\n",
    "        process_count = 0\n",
    "        for item in items:\n",
    "            # Print progress\n",
    "            process_count += 1\n",
    "            clear_output(wait=True)\n",
    "            print(f\"Processing image {process_count}/{len(items)}\", end='\\r')\n",
    "            # Filter to only include .jpg files\n",
    "            if item['mimeType'] == 'image/jpeg':\n",
    "                # Download the image\n",
    "                response = requests.get(item['baseUrl'])\n",
    "                img = Image.open(BytesIO(response.content))\n",
    "                img_array = face_recognition.load_image_file(BytesIO(response.content))\n",
    "                \n",
    "                # Find all the faces in the image\n",
    "                face_locations = face_recognition.face_locations(img_array)\n",
    "                \n",
    "                # Only process images with a single face\n",
    "                if (not require_single_person and len(face_locations) > 0) or (require_single_person and len(face_locations) == 1):\n",
    "                    top, right, bottom, left = face_locations[0]\n",
    "                    face_image = img.crop((left, top, right, bottom))\n",
    "                    cropped_faces.append(face_image)\n",
    "                    if (right - left) > 60:\n",
    "                        face_image.save(os.path.join(save_folder, f'face_{output_count}.jpg'))\n",
    "                        output_count += 1\n",
    "                        if output_count >= 660:\n",
    "                            break\n",
    "        \n",
    "        print(f\"{len(cropped_faces)} picture had a single face of significant size\")\n",
    "\n",
    "        # # Display the first 5 cropped face images using matplotlib\n",
    "        # _, axes = plt.subplots(1, 5, figsize=(15, 5))\n",
    "        # for ax, face in zip(axes, cropped_faces[:5]):\n",
    "        #     ax.imshow(face)\n",
    "        #     ax.axis('off')\n",
    "        # plt.show()\n",
    "\n"
   ]
  },
  {
   "cell_type": "code",
   "execution_count": 31,
   "metadata": {},
   "outputs": [
    {
     "name": "stdout",
     "output_type": "stream",
     "text": [
      "68 picture had a single face of significant size\n"
     ]
    }
   ],
   "source": [
    "list_and_crop_photos(h_dad_album_id, './other_data/h_dad', False)\n",
    "list_and_crop_photos(h_mom_album_id, './other_data/h_mom', False)\n",
    "list_and_crop_photos(w_mom_album_id, './other_data/w_mom', False)\n",
    "list_and_crop_photos(w_dad_album_id, './other_data/w_dad', False)"
   ]
  }
 ],
 "metadata": {
  "kernelspec": {
   "display_name": "venv",
   "language": "python",
   "name": "python3"
  },
  "language_info": {
   "codemirror_mode": {
    "name": "ipython",
    "version": 3
   },
   "file_extension": ".py",
   "mimetype": "text/x-python",
   "name": "python",
   "nbconvert_exporter": "python",
   "pygments_lexer": "ipython3",
   "version": "3.10.4"
  }
 },
 "nbformat": 4,
 "nbformat_minor": 2
}
