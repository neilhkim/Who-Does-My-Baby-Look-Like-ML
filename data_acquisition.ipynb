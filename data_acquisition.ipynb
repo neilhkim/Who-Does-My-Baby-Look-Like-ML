{
 "cells": [
  {
   "cell_type": "markdown",
   "metadata": {},
   "source": [
    "# Gathering Training Data using Google Photos API\n",
    "\n",
    "This was the first part of the main notebook, which was to gather training data using Google Photos API and my Google Photos album. Since it was my first time using Google Photos API, I made it into a separate notebook."
   ]
  },
  {
   "cell_type": "markdown",
   "metadata": {},
   "source": [
    "The following code cell authenticates a user with the Google Photos API and list the first 10 media items from their Google Photos library. \n",
    "\n",
    "#### Functions\n",
    "\n",
    "- The `authenticate_google_photos()` function ensures that the user is authenticated and the credentials are valid.\n",
    "- The `list_photos()` function uses these credentials to interact with the Google Photos API and list media items.\n",
    "\n",
    "This setup allows the user to authenticate once and reuse the saved credentials for subsequent runs."
   ]
  },
  {
   "cell_type": "code",
   "execution_count": 1,
   "metadata": {},
   "outputs": [
    {
     "name": "stdout",
     "output_type": "stream",
     "text": [
      "Using Google API library: https://photoslibrary.googleapis.com/\n",
      "Photo Title: 20241012_173652.mp4 - URL: https://lh3.googleusercontent.com/lr/AAJ1LKdz9Vlh2fGcLcEnZRcUZOtI0GLs9ZR24AgvnyXqP0wQK-8_NsJbuzA5XgE4Tgg-2lT4_W5mZpyObVOlUL0PohKUXgNKEKNWW_4Lf2jdELVsk_B_oqup6PNcWLBv4J4a3kzmiYdj2sFs4_KnVtUxAQjIpta1GwhAfdc1660s8ZBGJTwJkf9eMQzF4We5FW6F1DybSmPjZGiIr9nbTmjuJ9y2qgZRWfM4VxCTKGpAcF0AiYv1E3e4UgFm1e5MUGH1oWW026lpTonCoL3wE_Pz_0iHRqD8u7x12Dbmo07A41ii5tUlFkntd-8TgIBjgoGQBGaD6QjZsHRqal9JpDgdchYMG2c-ZqKTWb0zpl06TCK_YgJk2-J0DpipFFYPl3hmtINjfFEb9yrKwdG2R0VTDU-0l3NQGGqGpHU7QF9al46F9Gjb8lnIpdf_oAo-SFN1Q3QXRAybJ1jGajK7QNx-tWrufe1wIEUQjSWQAsXkIiYSfGJgC1Bjd_qI4WJE6wqiLjQArkDNDVdJOLcGJJEGjedLvF8wZckOe76md-HzS_6xz6T1fPaphNQ_ouMqu8lsrcreCA6Qwssab4cs7-pRmb4S_K6laQ8igXb2UdvwhcN5M_PGoNIM_9k7O59hh3Tovy0-5MzlyCpt6uhRms1HSd0goxSbKejjA3kOKJOQyQyJ3KfzmzfNiFZBrIYbrFt-4b1UuNyicrtI-UKg_4CJR3WX-7U1HuwDSVWYU1knKnibKfNooRQm0ObzLfraFLwrg3xn5zPsyyjeX4wGrJMAp2K72k52zo7lonAFceSZ4x0baDYSTkLRXuFHJlln80d1Zl7WjS0xNKvKIR-DjDTNO_nnncr1enAahXi2vEv7fU1Gjw_AqIwgSuiiAPdZNu0SDX7KToj1FmDCAaRh2EHo9GLWu7oGNul6ZFUiIF5MhweRlX7mnHNXENWS0LhY7X_lbmgqnrJ47VvNKR0wB_U1LiA_bXVVUZpW6SluFC4JlDcmXaWKwnDuOq7ADVzm9Vs1e-SrMLOEjk4ucUOz_U_D-247MQ\n",
      "Photo Title: 20241012_173725.jpg - URL: https://lh3.googleusercontent.com/lr/AAJ1LKfBjJ8YAMhFTzJx_S1_2QppNL1m7dcf5OMelL24y4Zv9VQhA1grh3wzBLmwFd4Np6sgbVQug_VQ57SSYVhYZvDrHuUKRTqib3FRx-iF10u_milr0M9xdMGN6ql5OtFmGemnXZPxPTuHz5yvjzucjOBxjatx_wOIqjT8YyGvzIPCMCD2t9a3YbROIiLwamKdHUlbxwhp1a-XinNg6e_AmY2G9JQgLRo7D1xjWUfo0A9G5-bdKfxdZfn82yVsC-lMS89VujRLlTQFabH8Tz1RU_SV_d2Qd_l_P1fDIaq6YdyI29TFzdy8xuJxdcaC0V4qGI2kR6Ls2QhKZXgXQcZxgnpVj-KnY7nAOv6OERwOWPXuZKaXcBYzaPHwVagpLe0uBJWUPRM3fn3eNZkEybpmy4Apr1rNyn5WECmBLm5IMCt3tQNQO23fgtEPNmbV__cYxXFv2CDZlZB4bn8IQ5xYoojqJYmSj2mnYbszsv_Eb3T4B8a_B6e8HtjHtNZEbilRVTaJ9oeqxUIvQPWzIcbe-xEvLDVN3Owq5WMPAGuOVKST2hA3yzkbWsDNDYPZo8vUKGYsUNZHs1p_jcuvH3fKIz4iO6N-owTm_-8PDPjlBOndO3pg-gwqMofmo2aZnb8fpPtiSOSojBvgUl30SnoLd0pwGIh8vwKHfJReEdztz-FwW-fH5ZOjPirbA1Tmse6OjKCsXqmLqLrjUbmgXKyv0D679F-fjBhomSLquCi9RnGlJsVoP_YbzUzUVLeHej4IsTEKNhWBw1W9ETMaN6dajD4RZim214RYI0kP8swArttEdfT8c-BY_b86Ly09IXuLd68CeLPg2HRpTrnNmvRv1E8k6_qrbhNR7dyeyaEbzFUlVoF4i7o9u5jbj9IXV5ExcreV2Iw4xF_ymFdXWGBk3svpCcz5Hzy7-Et8UPnyVYZDxY_4WWrvRAaB_AHRfFfxilDe0XnyaHGaftr6dd9-iAbLoW8y5uSUUiLcUwGJcDc8cPCOE8P7hHXG7tl2r6U_MnqZ-bYemHC8Y6yI00Mt1GdTew\n",
      "Photo Title: 20241012_173724.jpg - URL: https://lh3.googleusercontent.com/lr/AAJ1LKfch_SdBR8LSLi-VbCyB6maCQq2OofobvTRvnCJ7tgfTJjt6BK2oSSJ1OorzzdBZo9fumtNA2HX_D4v7fwqmNTJK6qorsVVThp3izUb3pS8DvsrX0p2gHlj97dmSFjeRnWV9ckDHhLG1sqdkm1LipRQyJyPC1NoMhEAcPwk30ialU34OcCwbTKOuApOvdiOVi6wPCH44zIoRZbAZCLcx3upOCKIPA_PVF9c7K-umVNBONf3BqebGB9_Jn_RX0rpJJHyE6qIfc3DSSksJvglOkrQ8fTq3wRLd-bkXOmRhdKq-1-0St3e071I_pc83Hikw2dIXyH2D5987lr-uXWxTukW0-9DijAqkp0fNpJUQHlQB9tzSQGBESYTCp3L21OKmgidCqf_AC4feorh2erMevdNJwqzhZ2bW4q0JnUYlR1zld_wwzA3A3RIlmlTZsUb8A3UTr5ymEJf66CFPjN3gE3xK4DnG9jcZeg2eubY2ukc9HjilZmCP6g9vzwjvWqncxd-sSmizexeDvTNoh6nurtFUmwn_MJwQKVWiNGTm-cOK1dUbeFZ7mLc-GzCsR8lnpnodja3qkERB4Q_qR8-uYSsw0fiTwyqPLAWpI6QTFx_mQ2Oi-LUjEpiRBxEdMhUcZUdyS2d6JgNmpm9-Xr1Yf9lk_ZBzQZowz06T0TXQL9kOkNHQtl4NFI3opGusWX1Zz8eMCVwfdnVrvRiElYtIoMvIDAHcbT7rmWJF2KbRFBG6pdZDXYWE-EoQUCv7_r9k_GyDAyUyFStBCAeAPLO3F2CUrLDVkhTagYnvGHi-nQ-byA8wE5cEugAtHkyAmdsI-A4-X7vVmPgN1lTY2_p_4giPVptDK2uUbL026SjUICyy7uIiQtiJxY84vHIqAxaYyDs-2WqQ8AbSnpi2T11-2zum1YvXkbMZLKheN2aqrekaAoI2SGuCt4_OWVJRtDF-ezfwTGWhBqA7_VbqLbtLYG5Ee86NWyvMEx8VhnMYL5b7veV2OBUW2wAtFE3zhmmNwomhlX59id3eaHPu3aWnQCrVA\n",
      "Photo Title: 20241012_173723.jpg - URL: https://lh3.googleusercontent.com/lr/AAJ1LKed_9J_SihRhF03pUyl-nAE74mCEbp7fW5Cccj5BZmAWP4cSG9UrwiZ_vb1xoHb-yTI4JUxq7hPgY3Y7juOlP22J6K1bH6suugO9cN4Ie5GSSWDWWQnuG81IlniJc6yxGYMm8DLiSx8MnTj9dV8Fr59Prs4HSjIjEsQXlqdGVvIvGHX51asabuF7TbnAUpiqjAM53r3gAEwuyIdEOZkI2-xqi7iJ1fWhxjgTBLjW4nWHjtRj5hJqHdiOFIB8ZhZM5o_35ywkqZd5oZkHHF4dBPauvz9ZCrSwEULUra4w3GLw2qS74_uyrUDQK2Xfi7xs52nmYPM4WTn-eD5lJN--n4pgJY1_0AqYrmJl726W21-BUzrxuu9fN6l3OkF-JFXuhuGF1DMi-K-cmV6rewKT5Zv-b08XlS3n6pvAruIFlUuMgv4N7lO-5ReYJ_wCTpQiN4BM70meC6KH7ldBFDLnapu5F_dKL6H01nbJT0WsWG1laU5Egjk6buMvjo2dwtZ24bWzXVDJ4Osw3yxSfWGhLEEj8ivMkMWGWYlzEKotxgx-9UFoXSjIB9P-KZnYpoetPXiNTEhm7UW_pZt7PkTGq_K3u3LwiXDyue3kfaOlNK0fw1ehrcHZHm5-SjrXFn0pL2DVl2caBHtoC-JbcNbUJ6MJS06vFEDl_e8e-XbHJrqCNQJ--gQaUb2QXJMNNmyoJ9hA-nesD3I0Fz5gpS3FQNOyQMHOs0palOXNe3Cr_xisnmB1dMf9l2SNsCVeB7Ay4V9hbKD1_ravklbfaMcFLpxVufNfVr23LYOhJeGLhgmjZI9IT33-sn0wWeFoknPOz1YOVfIDdTyTVVBYDMubXUwl9cLcEDRJiya16er_dqWpPUudlMfqYoTV9XiAQXl4QsdFTEkN-Yqqw-zh3VnIgJFkiIp8EgTeP2UTppZjayvGX4JlrNHfAoSiJLQpvLtG0lWysRFkfIKRdgjOw126Th1U9xPPfuGWKnvjzreZvFzew0hzwtXxtTqBPdxCDlx0kMeiDgrNcKblWEqS3stymA-OA\n",
      "Photo Title: 20241012_173721.jpg - URL: https://lh3.googleusercontent.com/lr/AAJ1LKdkpA0P6eppb0s-fXrDNOTRV1VGLR3F_FYwIzttqC3PYQpwnO1UsE2GDIIaGiMjfvELtoaTb8bzK_l_FxnL7qBh4EInh9NntZ7QocTQDZhSJwc8guqRSjMyNBI9GpJHwo_ec2n-hD7eZJUqyyBmbk6FfFLxjC26SmReiE_5SCVUDR0lgjaCoZ5T9zq-azqO3Pn1yE2cTIk6iL8ioUaxDyM6cCA-pIbn_nCM7_PGPv7P7OcGWIGjTT54erY5rXP2QX4-GuMg0WbNGTLXPmCfhlyRrZNBPyK6OGxwPjqKbFWOiUZ1FOzba2X84ps4B4072FjvC65Yha033dqSPcbuH0sgyuWxFJxhSMZCl5K6FRy0EFIo4dqghRzPZ2BEJF720lVm58hgLZW2fjRciuVHQkfeJdazmkUxrUccQNJ8BWqpktwT2SCxwKMPKX6UvCgidON8oFs7SJmk5lmIqOym2rKXyKx5v9VwxCBZGsvmHRyrhwQOTfCzQEuJp5lVQkymNqg4F2S4yRJPM5865XzImo6Ycmvmp-kJvaCxG9HeZ0g0qTz-ifwLY63r7XLw9xl_t2jVAKsltczfTr6H0hXXaanSwIJ07_KQBzhrfMVRYvF-8YSM5CFv-tFScf1u7g2pfNZqYgAGX7U2b-DV9GCErFzOp3Vk9tfW_FoeABQmPhiuWVRxGRoz77ggKWTss2Il3NqHUIwcvjWE-TeycO117bCnddtJqNN8xD-m-iNLLhNZpUn3Teu20xVm1_TpHRS7QgzTcRsil9zl8E78a1kN-Eu4M0TmG68DSTlPGauUy2mj-6ds6-1QeXSu_sDKZKf4ADIr7G9c17QixRY7KVENJKryU7mv0wROqHsPcMp78O5L3fvz6RQ6q_amYsdgDid9NJA4B8YI6sVtckp3i9HCaCRQKu1KVJngNG1-9emuxQVzWQhLPryU3Jatj75G8CTWVTJvswAirIidhIm-y7-3rmw5UkumY7bZGdhN-6rW7V9bfTh5dCszGvq2DlbNPrpS10m6ZX0cxOLaWV7KnPd9IZvDXw\n",
      "Photo Title: 20241012_173722.jpg - URL: https://lh3.googleusercontent.com/lr/AAJ1LKf74ebj4WKGebhAWcGU3PJw-YhPp6evCEKh-fm-6lkaA6c2O4jsHPJfvOxUVk0yJyIX9TMa31EtHli9bKxbJIxH09wihgzPCWsC52xvNzgzZ33mFSeM375CYOAI7wTnCgMdYR-c8gf8rf0bymgzLq7EFk43ezINyN2x-HXx0fSHh0_TCMRZ1LpB_dfxYRj5fpsG37ed5ZO7FJ0FCI-fbx8mXp5fbcYrdiac5aeBiDWnRoLDBq48dXwdaAtApu_dwzAMloR4P5MPbAvGI9oYYhk3tYMwJAfNXHxbEEuDzqt1oVRL0VWMmHNJWo0jZLQOIQAISVO8IeCmYenM7kkzOwAmLpDGtJaG5_hwOabm3NQ8X7-W9y7cgqEMw8GxgUo6j3SYOwC-AGu8eBOm7yOqHEcHvQNoTwd6jEONU7KARu16XCONgL2cB4PsS0WkD2KyPuNtbQKWbvcheWqDZD1Siy0VCgiQCJFFTwjBmg7M4W7G00Dmt1clBW49C3U8gd8UTX5xoL_eX1Uvllit9gRjTu4JgQcsiAQCd69lOWKovRrclkqS6_-ghnHW4dRTlCq_QIqi59fEonDcHKn-0So3WRuggByVoOfrs27pZF2gs_7I9csg0qUKJp8keNVwjDUviTmNNUfcwzT1109MUhBa4efkjFqHndE01vjftI1ZOUucNrt7f_auFUJMJ2NVTUrZY7ReLLy1T8zfZqutBLL3qHb7kuGLTDHHgothlxwSlikmIsI-2r2uLwg-Jcn6xACzsvtdxnlpt5S_zwlfT2vFC-Vh6EP6ayFfBHdt5W__8CIbdtQ-WJqq6-qD2HA2eOkDrk_iqvkOzlJY8o4lDOLaO9r3zHrm2wynSxDv9DTRbDT7NXywqY4Xb-01-gi-oP0F8VXB_ECHwKRZuJA5JJ8wph2fFrlYgoQXscSo8k-RMRK5axYVkp6nXbfw0nWz8nKkvE3rCSEDn6d1EwatYvrvlOwluSimCmIIu61_UDjDUmhpkzZaXoZ_V7ky2vT779ahNhtAGiQ2EBlEy0RpBu_7dkk6zA\n",
      "Photo Title: 20241012_173658.jpg - URL: https://lh3.googleusercontent.com/lr/AAJ1LKc1bFrCPD1aLcKU6_z8dSy8u6mTq12byXDed6ozBjAHoSsltoFFjDrzEnI5jWsR_6IWSKpNZTe-21z-gbRJuOTr5vIM2mqtlllKpkJeEUnuZxMfZ3f30IVOI3mdwDGORd4BJLRM_cHS-Vi2AuCOE6nPUbBpmxn7KahsopVf9JSiffXGcM-kqSR6U3UkaTabnoNaGUg9i59P-ixsEgt0uTyqGa26CP4LyYMVSqPDsoW1GAzblJbP8PSNOG0phw_zfE818cHtUEQqCv_o1xFi-k5vNIfLz-rm03q2IEUWRXivod0ujG0uwVw_WEPczyc7ybtBZEplmXqcki7zFuOaoi__6OiML4U5cdSyXOC-3Ju-YVc5rem9pLdOX5Y6V06oK7gQdjEjKqD3NHBMYRlRC1SfzAydCCUi9bgfXceCdu0uVPAPIIAH2n_Ycj2I6ITVFVPhM6uKNPcvI2cEJy4qa74sSPpcW1qBPQE4JnWIri1T-RDhh4fNbqd6hgRTYdF5bRik_3Z6Z7bE7vs97m4NMtz2_zHvpEJAAvSAGRsvfKrHYmvYB2LyoBJiMxeiSwLLElZRwdvGmNa05-LIP7Bc6e378Cyks-I4Xvm6uvLtR9iGhgYNM2piJDwtDCtkbgO4GwTj4I1WkEMq-3h0jNuvFZjAL59KNe5XU87aeH_SUPMGQExCTVEwt5oktQbqaSa7xyv3q-tFrAXP2hFsvJrHxTV-MVgSVzPFj7lOG-O7LhmYeDmFls994p5VfnYcDhYfpTi_vZyuTiHWHXIdI7FykoJ542dnuCosOf7ynzXyaeJ4JaeoDJnhuH_oKSqeLmzFYH9zTVZ_gO8AXgFx0NPQ6pdL1j5B40CYr0fdAINDGVKPgLDCCBXthYQjLJ8ILXCyyCqm_vf4hqHe0JJlQ3iK8e9CE46mIU5XX9eAut6i2YzwVA5abOWjC_6-sdRChMJD2VO_4ugx66iIY0JOb4u_iKqU6yexao1f9XJOoO919gFnexX0XD9FRFHd03AJdzTlKc1dE08OgeEEQ5dOJURR_4OIsQ\n",
      "Photo Title: 20241012_164632.jpg - URL: https://lh3.googleusercontent.com/lr/AAJ1LKcXSFea79Ic8g0jk-d95IX_w3Xoc0Qcj055Isz7xi5QsXQISLujSyKPuha0ZHfIHnvKh7bqBH2PYt-XI2WKXSH8fDteXAg2e5SIx6nAMxp7hr7Vc637l6J8P5EhNP76vpJmxA18rWXaxv6XEK5VZmLJu8-yLL5F-lh0brpwuu5KX9boGUiwF9_wx0AfGwG4pLB_YacGFNWKPj_extkuKjY41I4x-zJfEu9l1ibhTkwSlzQXlkHoFKa25WdT7jyLg2rdAW_WCudYhXm_Ns_XCkpe6JAqYTpXLa_VLOQMCcQStar2gOKuZfD1-s2ucVybrvZf8c6COlrYX5WOh5zx1RMayn70QnKBLtcgaShcs2E4XEnZlZTRACP40UzXIJstwx1j0DbxXdbPeVamgaI-O89R5RCUlIMsQI7tZKA7FVMV05JuAw4eOjqjqhLt-_HOxNeWkhzS8UDI_dx9bKJZMYxEhtaWBdbpaxpaJ9_3DbPtAYNmKKvEPq5BEbLS7TOjE4OAUuB21GqcgyQxDTVO-ddKqkBM780lpVksjnvOX69LLV5Ea_6PMg-z3llPbm2MNyrqZ9w86mHeQj3TzrRnFVT-WyyhCq6mZKXAG6nXIeVduWDBhHrHTKn_PlWQbEyOLYA1kV_3FKTGMq8X4t4EEaiN-NXpWRg7ZStFfi0MkeES7Izx3G2-lxswlFwie5dLj-b9nc2nC8388WLM6CdUWSIc6Q9ox3OsnoX6vUgFeGq_NuJjG-PQWo9eVzU43_wli40Sr7KorIVymT5UPi35Yp4xTIqwk8pQFY_sC1yrVrBIknjIM0y0QJw2AG2VogaK_UmuKs0MNRaINXd6ze1ZKz2X1RcS3NH-H8nCOnNHT8NtPNAOzJCgBzEKzJyo8i1WfRsQxSr_tc-Adkyzm6jvWhfqkdEI8KOtdVoajcUHyCwCzH_xa9xfolum8cU68HvySLIBPRik9lTcKGnNMkVJnjegLOBqZiZbwO505Ghk0jvcz-omFjWNLi1uNrUFsxbLk64szl7yTh1gNARflD5_ZL-rLA\n",
      "Photo Title: 20241012_153800.jpg - URL: https://lh3.googleusercontent.com/lr/AAJ1LKez306pOO7j6SYth3h9jfn_UgBsccuFYUgt2LqfnPeWX8FtTJ7gOvB4dkeutf5UW7P9D-gBCSPS08l7IHRreIRO2LUHE2o8XkjTtgJb3aNWrncwYhOfL4JwDuFntxBVQF82vcGIkxyGuBgw-u8GuEXbXu8wFZKi5pZHcU4-dbG5ICL_5va3LlYGZWqxBnZkoc3JOgtcsm-h91lw0GGl8FxavlfdekqOqmB5bfmtSyM2Pv8r2A6eLkJQicVSEMaU5IFyiPqLmlZAaTfM4tpe6JvIvT6ZpEg9vE7UukcVcPKCyIUitNp_omLdmFjFH359E3FnhYDB18P4SLUATY3cqWikqHcp03Ld9xhNAhFBaiSeW0joPBbsrAaMyGQGo7Vgi0sBRoG2LnZiuAuSI2QwWWzeWip7NpOQHxg8drIYloe0QTARP_UXpdg8N16RIGqCSDIvZLjk6u5F-2ru0SQDxucKIC6Zwfvp-r8lkfNt_EspyScGlwrZf3XlW5431dvJTWAL_oVQdC7c2ZCd-bJuXgAkBQ7AgTweOVGPmdX20F_1rIqntkiUDhbf8C6Kw1c-AiQ1Gh6zxyEcB4a6PHBbbNWdzNz37i7uqMLa12CLh52Stw7TJS-byAJZIMTSOcSxNdVa2zGsfVyX5h7EBatYheTDV7QMg0iuIeLF9a4lUI0LuE7v33E_93d5aOT95aikR4rZiHLcsgIzBgckB3eq8evlKeklCzmZ9oxEE610ARUR1PKaeVM2MINlo4bvuQFXIWduwaIkfAlhvLUdYMr56sdxeyZom6IEv_kG3PAxQTrXH751iZmveXnmrOfCYbMi8GgplpuhclTZlpujyt6H6kT7Cz_7UjhsBm3-IrPbM2LtMePE_LAb4CrNEBe_6sYkYlF3DrrL1hqtCqRWdlPGiB4sYmhLCksgdv_qCFn0O6hHrNq1PKemfulXBVDNOA1yg1bp9aPhmGRl2cd3yA3h3ZGlckyZDqOsid1L18628xhH35z8jhEKc54cxfyjvZ_j7fQ2uz1GuEEnyBCR8ck0GPwtbw\n",
      "Photo Title: 20241012_134127.jpg - URL: https://lh3.googleusercontent.com/lr/AAJ1LKf3kwI-9CY9KXu6JStONwCwJX6hJmjIlTqU_7gnN17ChKOuSndusrWIoVetE1y0s-3k9Zv5xZLMqnSxvkCOPmuW6VLA40f_SjreVAZjW2BQDSffcK72cDLBAZsKOaQ1lrd4r83TrNSRgCxBYjD2khtS9OoyJPwKP66QA5-Czf-lg-T31241jeD0C0dK97EjpKcIwaDTe18gKOjVBv0u3JwOdhCn1-DFoOmwHra1bcY9FI6Hy9fMv1tRIalqn8sWe7_lPVPiwDQ7aq7M82p4bHRYcstouvgdRQu7eGAsyX6LSsHdUUKnjhtwVcQC3j52oxSfixgoSV_82t7F8CHVFUn_9YPxJ-tfrPxOOk8rrjNTtO1sKbS_NTdrSuKPDApVyf-Lzi8Ib8gCkmy3irUdy3EuPRCec6KUPwkPUD8QnbpCaMMmtdW1EaFPedsQk4ngO9Un87gTUygTx2K3dlHT6bxR7DFe7tQm26yT0u-mQdrtt5_lJkZfQf9SsPRGyCC4__jR40Vrlnksdw4Nw6ea7QuckXZxi_bzmRn_mpMQJMQO-_5yiDeW5MmcBLYav_z8Y0R44IOswkm1qBDU7s6Lt9LJaVRvSOfJlThQZIS78wrMfmG0PV9FBnSFvfiOmCOVVQb7_zVNyvWvY3-EE9T6_wA4lrGCOUi9Nu9CVtvplvQfUC_cgooxrqXxPJox2fL_cqkSEAgCY-8jQDjDhY8iFdj7znAW7sekdg3KFVjMIGvkGlzeItet92Tsux9mEh_DxMkT8celqR312dVS7WxYp9metV9bFZFy3IATR5zw9knsZ_7UGuv9tWUB9TkLryhxyc3kBZJfC_CJTTlf8qwiVLbK8TAH0Mh04CdFxMVSA7IAlfMGG3m-jlc84Z9eBx0zu65G2JAQqSd55IuKwKOpEqk3OewRcCh5HoN6ygrwWea-1sEcm61QPZTg4R0_ZxVq2z9UkNH8bZMY_sJFSzO69zJzDtQsqwZcqbnIAteXmrzvPtOwTBXgKstqbifIsY1IrQI8ZEEyC2D0WAA5_e7xS4uY3A\n"
     ]
    }
   ],
   "source": [
    "import os\n",
    "import pickle # Used for serializing and deserializing Python objects, in this case, to save and load authentication tokens\n",
    "from google_auth_oauthlib.flow import InstalledAppFlow # for authenticating the user\n",
    "from google.auth.transport.requests import Request # for refreshing the user's access token\n",
    "from googleapiclient.discovery import build # for accessing the Google Photos API\n",
    "\n",
    "# Set the scope of access to read-only access to the Google Photos library\n",
    "SCOPES = ['https://www.googleapis.com/auth/photoslibrary.readonly'] \n",
    "\n",
    "def authenticate_google_photos():\n",
    "    creds = None\n",
    "    # The file token.pickle stores the user's access and refresh tokens\n",
    "    if os.path.exists('token.pickle'):\n",
    "        with open('token.pickle', 'rb') as token:\n",
    "            creds = pickle.load(token)\n",
    "\n",
    "    # If there are no (valid) credentials available, let the user log in.\n",
    "    if not creds or not creds.valid:\n",
    "        if creds and creds.expired and creds.refresh_token:\n",
    "            creds.refresh(Request())\n",
    "        else:\n",
    "            flow = InstalledAppFlow.from_client_secrets_file(\n",
    "                'client_secret.json', SCOPES)\n",
    "            creds = flow.run_local_server(port=0)\n",
    "\n",
    "        # Save the credentials for the next run\n",
    "        with open('token.pickle', 'wb') as token:\n",
    "            pickle.dump(creds, token)\n",
    "\n",
    "    return creds\n",
    "\n",
    "def list_photos(pagesize=10):\n",
    "    \"\"\" This function tests the connection to the Google Photos API by listing the first 10 photos in the user's library \"\"\"\n",
    "\n",
    "    creds = authenticate_google_photos()\n",
    "    # service = build(\"photoslibrary\", \"v1\", http=creds.authorize(Http()),static_discovery=False)\n",
    "    service = build('photoslibrary', 'v1', credentials=creds, \n",
    "                    discoveryServiceUrl=\"https://photoslibrary.googleapis.com/$discovery/rest?version=v1\")\n",
    "    # Print the API library name and version\n",
    "    print(\"Using Google API library:\", service._baseUrl)\n",
    "    results = service.mediaItems().list(pageSize=pagesize).execute()\n",
    "    items = results.get('mediaItems', [])\n",
    "    \n",
    "    if not items:\n",
    "        print('No media items found.')\n",
    "    else:\n",
    "        for item in items:\n",
    "            print(f\"Photo Title: {item['filename']} - URL: {item['baseUrl']}\")\n",
    "\n",
    "list_photos(pagesize=10)"
   ]
  },
  {
   "cell_type": "markdown",
   "metadata": {},
   "source": [
    "The connection to the Google Photos API is successful.\n",
    "\n",
    "## List photos of me using Google Photos API.\n",
    "\n",
    "- I've prepared albums inside Google Photos named \"husband\" and \"wife\", which contain about 900 picture of me and 1200 pictures of my wife, respectively.\n",
    "\n",
    "- Let's first see if the API correctly accesses my albums.\n"
   ]
  },
  {
   "cell_type": "code",
   "execution_count": 10,
   "metadata": {},
   "outputs": [
    {
     "name": "stdout",
     "output_type": "stream",
     "text": [
      "Album Title: juyeon - ID: ALV-wv03matWGqOVbZDelG_zK9PrgFo3YGN24rBo_zZBN85wdTIJJpZDSvRcxhWP5YScWSqoBT92\n",
      "Album Title: baby - ID: ALV-wv2CvAgqxb-f8VJbzD7T1ZQH6YV1y3Mm8HJABkun0uZ9MSpXYOQADjh1U9z4KZJHT6re9sJq\n",
      "Album Title: wife - ID: ALV-wv1e0wojtN8dyoGozicMS1SHjRvd73b5pdI7M-dmy0LSAwW0E0EaWI63S_Iy1mXjfSWPS7Z7\n",
      "Album Title: husband - ID: ALV-wv3-YBgY3kJXZcxq4d3KBIFA2-S1Q8VjB8oLqubWuVGRKjsgH27xtqOJeFk7iKAwkJs4ONkr\n",
      "Album Title: JJ 2022 - ID: ALV-wv1DhmLjqBP5JlYYcfmSjQelUBfVibPVjKFGVJkfibkutsifWsJAzeWnjGJs_T83AVWnCrjI\n",
      "Album Title: jp, nk - ID: ALV-wv1WuJ8dFAxLrKijujmtvHG9JBEFFgp5gCKrSEdO8wym0oFkbeGr8snxCug37YGic7ZfkTUl\n",
      "Album Title: zy, neil - hugging - ID: ALV-wv0NdnuqYvbKkgDLLpNzHzDjEbMpan-7QMqv4XQEIUrLyrrsKf1z8eeNp4WjBWG6sOVEpKNB\n",
      "Album Title: Dali fam - ID: ALV-wv0VbVsz8--6-oE2G5-iDLTsZhCPR5pMgzFaeXfuJiU540mLe-9Qybed8I8D4SHZlECkWUaI\n"
     ]
    }
   ],
   "source": [
    "def list_albums():\n",
    "    creds = authenticate_google_photos()\n",
    "    service = build('photoslibrary', 'v1', credentials=creds, \n",
    "                    discoveryServiceUrl=\"https://photoslibrary.googleapis.com/$discovery/rest?version=v1\")\n",
    "\n",
    "    results = service.albums().list(pageSize=10).execute()\n",
    "    albums = results.get('albums', [])\n",
    "    \n",
    "    if not albums:\n",
    "        print('No albums found.')\n",
    "        husband_album_id = None\n",
    "        wife_album_id = None\n",
    "    else:\n",
    "        for album in albums:\n",
    "            print(f\"Album Title: {album['title']} - ID: {album['id']}\")\n",
    "            if album['title'] == 'husband':\n",
    "                husband_album_id = album['id']\n",
    "            elif album['title'] == 'wife':\n",
    "                wife_album_id = album['id'] \n",
    "            elif album['title'] == 'baby':\n",
    "                baby_album_id = album['id'] \n",
    "    \n",
    "    return husband_album_id, wife_album_id, baby_album_id\n",
    "          \n",
    "husband_album_id, wife_album_id, baby_album_id = list_albums()"
   ]
  },
  {
   "cell_type": "markdown",
   "metadata": {},
   "source": [
    "It correctly lists all the albums I have in my account.\n",
    "\n",
    "Now let's see whether it correctly retrieves the photos within the album titled \"husband\" and \"wife\"."
   ]
  },
  {
   "cell_type": "code",
   "execution_count": 4,
   "metadata": {},
   "outputs": [
    {
     "ename": "NameError",
     "evalue": "name 'husband_album_id' is not defined",
     "output_type": "error",
     "traceback": [
      "\u001b[1;31m---------------------------------------------------------------------------\u001b[0m",
      "\u001b[1;31mNameError\u001b[0m                                 Traceback (most recent call last)",
      "Cell \u001b[1;32mIn[4], line 22\u001b[0m\n\u001b[0;32m     19\u001b[0m         \u001b[38;5;28;01mfor\u001b[39;00m item \u001b[38;5;129;01min\u001b[39;00m filtered_items:\n\u001b[0;32m     20\u001b[0m             \u001b[38;5;28mprint\u001b[39m(\u001b[38;5;124mf\u001b[39m\u001b[38;5;124m\"\u001b[39m\u001b[38;5;124mPhoto Title: \u001b[39m\u001b[38;5;132;01m{\u001b[39;00mitem[\u001b[38;5;124m'\u001b[39m\u001b[38;5;124mfilename\u001b[39m\u001b[38;5;124m'\u001b[39m]\u001b[38;5;132;01m}\u001b[39;00m\u001b[38;5;124m - URL: \u001b[39m\u001b[38;5;132;01m{\u001b[39;00mitem[\u001b[38;5;124m'\u001b[39m\u001b[38;5;124mbaseUrl\u001b[39m\u001b[38;5;124m'\u001b[39m]\u001b[38;5;132;01m}\u001b[39;00m\u001b[38;5;124m\"\u001b[39m)\n\u001b[1;32m---> 22\u001b[0m list_photos_from_album(husband_album_id, n_number\u001b[38;5;241m=\u001b[39m\u001b[38;5;241m10\u001b[39m)\n\u001b[0;32m     24\u001b[0m \u001b[38;5;28mprint\u001b[39m(\u001b[38;5;124m'\u001b[39m\u001b[38;5;124m---\u001b[39m\u001b[38;5;124m'\u001b[39m)\n\u001b[0;32m     27\u001b[0m list_photos_from_album(wife_album_id, n_number\u001b[38;5;241m=\u001b[39m\u001b[38;5;241m10\u001b[39m)\n",
      "\u001b[1;31mNameError\u001b[0m: name 'husband_album_id' is not defined"
     ]
    }
   ],
   "source": [
    "  \n",
    "def list_photos_from_album(album_id, n_number=10):\n",
    "    creds = authenticate_google_photos()\n",
    "    service = build('photoslibrary', 'v1', credentials=creds, \n",
    "                    discoveryServiceUrl=\"https://photoslibrary.googleapis.com/$discovery/rest?version=v1\")\n",
    "    \n",
    "    # List items in a specific album (e.g., \"Me\")\n",
    "    results = service.mediaItems().search(body={\n",
    "        'pageSize': n_number,\n",
    "        'albumId': album_id  # Replace this with your album ID\n",
    "    }).execute()\n",
    "    \n",
    "    items = results.get('mediaItems', [])\n",
    "    \n",
    "    if not items:\n",
    "        print('No media items found.')\n",
    "    else:\n",
    "        filtered_items = [item for item in items if item['mimeType'] == 'image/jpeg']\n",
    "        \n",
    "        for item in filtered_items:\n",
    "            print(f\"Photo Title: {item['filename']} - URL: {item['baseUrl']}\")\n",
    "\n",
    "list_photos_from_album(husband_album_id, n_number=10)\n",
    "\n",
    "print('---')\n",
    "\n",
    "\n",
    "list_photos_from_album(wife_album_id, n_number=10)"
   ]
  },
  {
   "cell_type": "markdown",
   "metadata": {},
   "source": [
    "It successfully retrives the photos inside the album.\n",
    "\n",
    "Now, let's download the cropped faces from each album, \"husband\" and \"wife\".\n",
    "Only download the faces if the photo contains a single face."
   ]
  },
  {
   "cell_type": "code",
   "execution_count": 21,
   "metadata": {},
   "outputs": [],
   "source": [
    "import requests\n",
    "from io import BytesIO\n",
    "from PIL import Image\n",
    "import face_recognition\n",
    "from matplotlib import pyplot as plt\n",
    "import numpy as np\n",
    "from IPython.display import clear_output\n",
    "\n",
    "def list_and_crop_photos(album_id, save_folder):\n",
    "    creds = authenticate_google_photos()\n",
    "    service = build('photoslibrary', 'v1', credentials=creds, \n",
    "                    discoveryServiceUrl=\"https://photoslibrary.googleapis.com/$discovery/rest?version=v1\")\n",
    "    \n",
    "    page_size = 100 \n",
    "    items = []\n",
    "    next_page_token = None\n",
    "\n",
    "    while True:\n",
    "        body = {\n",
    "            'pageSize': page_size,\n",
    "            'albumId': album_id\n",
    "        }\n",
    "        if next_page_token:\n",
    "            body['pageToken'] = next_page_token\n",
    "\n",
    "        results = service.mediaItems().search(body=body).execute()\n",
    "        items.extend(results.get('mediaItems', []))\n",
    "        next_page_token = results.get('nextPageToken')\n",
    "\n",
    "        if not next_page_token:\n",
    "            break\n",
    "\n",
    "    print(f\"Number of retrieved pictures: {len(items)}\")\n",
    "    \n",
    "    # items = results.get('mediaItems', [])\n",
    "    \n",
    "    if not items:\n",
    "        print('No media items found.')\n",
    "    else:\n",
    "        cropped_faces = []\n",
    "        output_count = 0\n",
    "        process_count = 0\n",
    "        for item in items:\n",
    "            # Print progress\n",
    "            process_count += 1\n",
    "            clear_output(wait=True)\n",
    "            print(f\"Processing image {process_count}/{len(items)}\", end='\\r')\n",
    "            # Filter to only include .jpg files\n",
    "            if item['mimeType'] == 'image/jpeg':\n",
    "                # Download the image\n",
    "                response = requests.get(item['baseUrl'])\n",
    "                img = Image.open(BytesIO(response.content))\n",
    "                img_array = face_recognition.load_image_file(BytesIO(response.content))\n",
    "                \n",
    "                # Find all the faces in the image\n",
    "                face_locations = face_recognition.face_locations(img_array)\n",
    "                \n",
    "                # Only process images with a single face\n",
    "                if len(face_locations) == 1:\n",
    "                    top, right, bottom, left = face_locations[0]\n",
    "                    face_image = img.crop((left, top, right, bottom))\n",
    "                    cropped_faces.append(face_image)\n",
    "                    if (right - left) > 60:\n",
    "                        face_image.save(os.path.join(save_folder, f'face_{output_count}.jpg'))\n",
    "                        output_count += 1\n",
    "                        if output_count >= 660:\n",
    "                            break\n",
    "        \n",
    "        print(f\"{len(cropped_faces)} picture had a single face of significant size\")\n",
    "\n",
    "        # # Display the first 5 cropped face images using matplotlib\n",
    "        # _, axes = plt.subplots(1, 5, figsize=(15, 5))\n",
    "        # for ax, face in zip(axes, cropped_faces[:5]):\n",
    "        #     ax.imshow(face)\n",
    "        #     ax.axis('off')\n",
    "        # plt.show()\n",
    "\n"
   ]
  },
  {
   "cell_type": "code",
   "execution_count": null,
   "metadata": {},
   "outputs": [],
   "source": [
    "\n",
    "# Download cropped face images from the husband album\n",
    "list_and_crop_photos(husband_album_id, 'husband')\n"
   ]
  },
  {
   "cell_type": "markdown",
   "metadata": {},
   "source": [
    "![Husband Pictures](./screenshots/husband_pictures.png)"
   ]
  },
  {
   "cell_type": "code",
   "execution_count": 9,
   "metadata": {},
   "outputs": [
    {
     "name": "stdout",
     "output_type": "stream",
     "text": [
      "Number of retrieved pictures: 8596\n"
     ]
    },
    {
     "ename": "UnidentifiedImageError",
     "evalue": "cannot identify image file <_io.BytesIO object at 0x000001F12CDB2C50>",
     "output_type": "error",
     "traceback": [
      "\u001b[1;31m---------------------------------------------------------------------------\u001b[0m",
      "\u001b[1;31mUnidentifiedImageError\u001b[0m                    Traceback (most recent call last)",
      "Cell \u001b[1;32mIn[9], line 2\u001b[0m\n\u001b[0;32m      1\u001b[0m \u001b[38;5;66;03m# Download cropped face images from the wife album\u001b[39;00m\n\u001b[1;32m----> 2\u001b[0m list_and_crop_photos(wife_album_id, \u001b[38;5;124m'\u001b[39m\u001b[38;5;124mwife\u001b[39m\u001b[38;5;124m'\u001b[39m)\n",
      "Cell \u001b[1;32mIn[8], line 45\u001b[0m, in \u001b[0;36mlist_and_crop_photos\u001b[1;34m(album_id, save_folder)\u001b[0m\n\u001b[0;32m     42\u001b[0m \u001b[38;5;28;01mif\u001b[39;00m item[\u001b[38;5;124m'\u001b[39m\u001b[38;5;124mmimeType\u001b[39m\u001b[38;5;124m'\u001b[39m] \u001b[38;5;241m==\u001b[39m \u001b[38;5;124m'\u001b[39m\u001b[38;5;124mimage/jpeg\u001b[39m\u001b[38;5;124m'\u001b[39m:\n\u001b[0;32m     43\u001b[0m     \u001b[38;5;66;03m# Download the image\u001b[39;00m\n\u001b[0;32m     44\u001b[0m     response \u001b[38;5;241m=\u001b[39m requests\u001b[38;5;241m.\u001b[39mget(item[\u001b[38;5;124m'\u001b[39m\u001b[38;5;124mbaseUrl\u001b[39m\u001b[38;5;124m'\u001b[39m])\n\u001b[1;32m---> 45\u001b[0m     img \u001b[38;5;241m=\u001b[39m Image\u001b[38;5;241m.\u001b[39mopen(BytesIO(response\u001b[38;5;241m.\u001b[39mcontent))\n\u001b[0;32m     46\u001b[0m     img_array \u001b[38;5;241m=\u001b[39m face_recognition\u001b[38;5;241m.\u001b[39mload_image_file(BytesIO(response\u001b[38;5;241m.\u001b[39mcontent))\n\u001b[0;32m     48\u001b[0m     \u001b[38;5;66;03m# Find all the faces in the image\u001b[39;00m\n",
      "File \u001b[1;32mc:\\Programs\\anaconda3\\envs\\pytorchbook\\Lib\\site-packages\\PIL\\Image.py:3339\u001b[0m, in \u001b[0;36mopen\u001b[1;34m(fp, mode, formats)\u001b[0m\n\u001b[0;32m   3337\u001b[0m     warnings\u001b[38;5;241m.\u001b[39mwarn(message)\n\u001b[0;32m   3338\u001b[0m msg \u001b[38;5;241m=\u001b[39m \u001b[38;5;124m\"\u001b[39m\u001b[38;5;124mcannot identify image file \u001b[39m\u001b[38;5;132;01m%r\u001b[39;00m\u001b[38;5;124m\"\u001b[39m \u001b[38;5;241m%\u001b[39m (filename \u001b[38;5;28;01mif\u001b[39;00m filename \u001b[38;5;28;01melse\u001b[39;00m fp)\n\u001b[1;32m-> 3339\u001b[0m \u001b[38;5;28;01mraise\u001b[39;00m UnidentifiedImageError(msg)\n",
      "\u001b[1;31mUnidentifiedImageError\u001b[0m: cannot identify image file <_io.BytesIO object at 0x000001F12CDB2C50>"
     ]
    }
   ],
   "source": [
    "# Download cropped face images from the wife album\n",
    "list_and_crop_photos(wife_album_id, 'wife')"
   ]
  },
  {
   "cell_type": "markdown",
   "metadata": {},
   "source": [
    "![Wife Pictures](./screenshots/wife_pictures.png)"
   ]
  },
  {
   "cell_type": "markdown",
   "metadata": {},
   "source": [
    "Of the saved files, I manually deleted the ones that are obviously not the \"husband\" or \"wife\" in each case.\n",
    "\n",
    "As a result, I have 638 images of the wife's face and 510 images of the husband's face."
   ]
  },
  {
   "cell_type": "code",
   "execution_count": 15,
   "metadata": {},
   "outputs": [
    {
     "name": "stdout",
     "output_type": "stream",
     "text": [
      "Number of retrieved pictures: 718\n",
      "266 picture had a single face of significant size\n"
     ]
    }
   ],
   "source": [
    "list_and_crop_photos(baby_album_id, 'baby')"
   ]
  },
  {
   "cell_type": "markdown",
   "metadata": {},
   "source": [
    "![Baby Pictures](./screenshots/baby_pictures.png)"
   ]
  },
  {
   "cell_type": "code",
   "execution_count": 18,
   "metadata": {},
   "outputs": [
    {
     "name": "stdout",
     "output_type": "stream",
     "text": [
      "Album Title: H-dad - ID: ALV-wv3mF6djjr0S_8izwqaV6pEKP5IFsUMIFtTevnbbOnef5FCo9AIO-ZxvDAYaSgWs6VDaDp10\n",
      "Album Title: H-mom - ID: ALV-wv1741TqhtuQFvoKYUeZckToKdM4c-SdTDVqeT5utbedSegF_1KzenLud1fulCj8FMHgjm8n\n",
      "Album Title: W-dad - ID: ALV-wv0wCQk-7jFCjLDEcc8UajdYyz-tfueIdGv2CTjYoMW8-kKYwiYbCLWL95G3WXFKsac2TbBm\n",
      "Album Title: W-mom - ID: ALV-wv21U2gWvm5lMI_UMMGkCNEpUdA1aQ43zkpLu8f5JLQKgPw1SssikWfbxIyuf1kgdVandDyV\n"
     ]
    }
   ],
   "source": [
    "def get_album_id(album_name):\n",
    "    creds = authenticate_google_photos()\n",
    "    service = build('photoslibrary', 'v1', credentials=creds, \n",
    "                    discoveryServiceUrl=\"https://photoslibrary.googleapis.com/$discovery/rest?version=v1\")\n",
    "\n",
    "    results = service.albums().list(pageSize=10).execute()\n",
    "    albums = results.get('albums', [])\n",
    "    \n",
    "    if not albums:\n",
    "        print('No albums found.')\n",
    "    else:\n",
    "        for album in albums:\n",
    "            if album['title'] == album_name:\n",
    "                print(f\"Album Title: {album['title']} - ID: {album['id']}\")\n",
    "                return album['id']\n",
    "          \n",
    "h_dad_album_id = get_album_id('H-dad')\n",
    "h_mom_album_id = get_album_id('H-mom')\n",
    "w_dad_album_id = get_album_id('W-dad')\n",
    "w_mom_album_id = get_album_id('W-mom')"
   ]
  },
  {
   "cell_type": "markdown",
   "metadata": {},
   "source": [
    "Since I don't have many pictures of our parents where they are the only person in it, I will lift the \"single person picture\" condition and save all faces and then manually erase resulting photos of other people."
   ]
  },
  {
   "cell_type": "code",
   "execution_count": 30,
   "metadata": {},
   "outputs": [],
   "source": [
    "def list_and_crop_photos(album_id, save_folder, require_single_person=True):\n",
    "    creds = authenticate_google_photos()\n",
    "    service = build('photoslibrary', 'v1', credentials=creds, \n",
    "                    discoveryServiceUrl=\"https://photoslibrary.googleapis.com/$discovery/rest?version=v1\")\n",
    "    \n",
    "    page_size = 100 \n",
    "    items = []\n",
    "    next_page_token = None\n",
    "\n",
    "    while True:\n",
    "        body = {\n",
    "            'pageSize': page_size,\n",
    "            'albumId': album_id\n",
    "        }\n",
    "        if next_page_token:\n",
    "            body['pageToken'] = next_page_token\n",
    "\n",
    "        results = service.mediaItems().search(body=body).execute()\n",
    "        items.extend(results.get('mediaItems', []))\n",
    "        next_page_token = results.get('nextPageToken')\n",
    "\n",
    "        if not next_page_token:\n",
    "            break\n",
    "\n",
    "    print(f\"Number of retrieved pictures: {len(items)}\")\n",
    "    \n",
    "    # items = results.get('mediaItems', [])\n",
    "    \n",
    "    if not items:\n",
    "        print('No media items found.')\n",
    "    else:\n",
    "        cropped_faces = []\n",
    "        output_count = 0\n",
    "        process_count = 0\n",
    "        for item in items:\n",
    "            # Print progress\n",
    "            process_count += 1\n",
    "            clear_output(wait=True)\n",
    "            print(f\"Processing image {process_count}/{len(items)}\", end='\\r')\n",
    "            # Filter to only include .jpg files\n",
    "            if item['mimeType'] == 'image/jpeg':\n",
    "                # Download the image\n",
    "                response = requests.get(item['baseUrl'])\n",
    "                img = Image.open(BytesIO(response.content))\n",
    "                img_array = face_recognition.load_image_file(BytesIO(response.content))\n",
    "                \n",
    "                # Find all the faces in the image\n",
    "                face_locations = face_recognition.face_locations(img_array)\n",
    "                \n",
    "                # Only process images with a single face\n",
    "                if (not require_single_person and len(face_locations) > 0) or (require_single_person and len(face_locations) == 1):\n",
    "                    top, right, bottom, left = face_locations[0]\n",
    "                    face_image = img.crop((left, top, right, bottom))\n",
    "                    cropped_faces.append(face_image)\n",
    "                    if (right - left) > 60:\n",
    "                        face_image.save(os.path.join(save_folder, f'face_{output_count}.jpg'))\n",
    "                        output_count += 1\n",
    "                        if output_count >= 660:\n",
    "                            break\n",
    "        \n",
    "        print(f\"{len(cropped_faces)} picture had a single face of significant size\")\n",
    "\n",
    "        # # Display the first 5 cropped face images using matplotlib\n",
    "        # _, axes = plt.subplots(1, 5, figsize=(15, 5))\n",
    "        # for ax, face in zip(axes, cropped_faces[:5]):\n",
    "        #     ax.imshow(face)\n",
    "        #     ax.axis('off')\n",
    "        # plt.show()\n",
    "\n"
   ]
  },
  {
   "cell_type": "code",
   "execution_count": 31,
   "metadata": {},
   "outputs": [
    {
     "name": "stdout",
     "output_type": "stream",
     "text": [
      "68 picture had a single face of significant size\n"
     ]
    }
   ],
   "source": [
    "list_and_crop_photos(h_dad_album_id, './other_data/h_dad', False)\n",
    "list_and_crop_photos(h_mom_album_id, './other_data/h_mom', False)\n",
    "list_and_crop_photos(w_mom_album_id, './other_data/w_mom', False)\n",
    "list_and_crop_photos(w_dad_album_id, './other_data/w_dad', False)"
   ]
  }
 ],
 "metadata": {
  "kernelspec": {
   "display_name": "pytorchbook",
   "language": "python",
   "name": "python3"
  },
  "language_info": {
   "codemirror_mode": {
    "name": "ipython",
    "version": 3
   },
   "file_extension": ".py",
   "mimetype": "text/x-python",
   "name": "python",
   "nbconvert_exporter": "python",
   "pygments_lexer": "ipython3",
   "version": "3.12.3"
  }
 },
 "nbformat": 4,
 "nbformat_minor": 2
}
